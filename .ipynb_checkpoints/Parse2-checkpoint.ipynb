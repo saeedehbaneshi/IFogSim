{
 "cells": [
  {
   "cell_type": "code",
   "execution_count": 1,
   "id": "d6a90dbb",
   "metadata": {
    "ExecuteTime": {
     "end_time": "2024-02-29T09:42:55.072431Z",
     "start_time": "2024-02-29T09:42:54.755059Z"
    }
   },
   "outputs": [],
   "source": [
    "#!/usr/bin/env python\n",
    "# coding: utf-8\n",
    "import re\n",
    "import sys\n",
    "import pandas as pd\n",
    "import sys\n",
    "import ast\n",
    "import matplotlib.pyplot as plt\n",
    "import os\n",
    "import time\n",
    "\n",
    "run_command=\"/opt/jdk-14/bin/java -Dfile.encoding=UTF-8 -classpath /media/saeedeh/Data/PhD/Simulators/iFog_Simulator/iFogSim/out/production/iFogSim2:/media/saeedeh/Data/PhD/Simulators/iFog_Simulator/iFogSim/jars/cloudsim-3.0.3-sources.jar:/media/saeedeh/Data/PhD/Simulators/iFog_Simulator/iFogSim/jars/cloudsim-3.0.3.jar:/media/saeedeh/Data/PhD/Simulators/iFog_Simulator/iFogSim/jars/cloudsim-examples-3.0.3-sources.jar:/media/saeedeh/Data/PhD/Simulators/iFog_Simulator/iFogSim/jars/cloudsim-examples-3.0.3.jar:/media/saeedeh/Data/PhD/Simulators/iFog_Simulator/iFogSim/jars/commons-math3-3.5/commons-math3-3.5.jar:/media/saeedeh/Data/PhD/Simulators/iFog_Simulator/iFogSim/jars/guava-18.0.jar:/media/saeedeh/Data/PhD/Simulators/iFog_Simulator/iFogSim/jars/json-simple-1.1.1.jar org.fog.test.perfeval.\"\n",
    "_app_name=\"TwoDCNSApps\"\n",
    "_report_path=\"Report_Saeedeh/t_pandas.txt\"\n",
    "_save_path=\"Report_Saeedeh/Pandas\"\n"
   ]
  },
  {
   "cell_type": "code",
   "execution_count": 2,
   "id": "a66c6cee",
   "metadata": {
    "ExecuteTime": {
     "end_time": "2024-02-29T09:43:10.557940Z",
     "start_time": "2024-02-29T09:43:10.555821Z"
    },
    "code_folding": [
     0
    ]
   },
   "outputs": [],
   "source": [
    "def run(app_name=\"TwoDCNSApps\", scenario=\"Router_Proxy\", report_path=_report_path): \n",
    "    cmd=f'{run_command}{app_name} {scenario} | tee -a {report_path}'\n",
    "    os.system(cmd)"
   ]
  },
  {
   "cell_type": "code",
   "execution_count": 3,
   "id": "600ad809",
   "metadata": {
    "ExecuteTime": {
     "end_time": "2024-02-29T03:14:10.803607Z",
     "start_time": "2024-02-29T03:14:10.783960Z"
    },
    "code_folding": [
     0
    ]
   },
   "outputs": [],
   "source": [
    "# init\n",
    "global Scenario\n",
    "Scenario=None\n",
    "# Initialize and maintain other DataFrames as global variables\n",
    "if 'computation_energy_per_vm_df' not in globals():\n",
    "    computation_energy_per_vm_df = pd.DataFrame(columns=['scenario','device', 'app', 'vm', 'energy'])\n",
    "\n",
    "if 'computation_energy_df' not in globals():\n",
    "    computation_energy_df = pd.DataFrame(columns=['scenario','device', 'energy'])\n",
    "\n",
    "if 'communication_energy_df' not in globals():\n",
    "    communication_energy_df = pd.DataFrame(columns=['scenario','device_id', 'device', 'tuple', 'energy'])\n",
    "\n",
    "if 'execution_time_df' not in globals():\n",
    "    execution_time_df = pd.DataFrame(columns=['scenario','tuple', 'execution_time'])\n",
    "\n",
    "if 'simulation_time_df' not in globals():\n",
    "    simulation_time_df = pd.DataFrame(columns=['scenario', 'simulation_time'])"
   ]
  },
  {
   "cell_type": "code",
   "execution_count": 4,
   "id": "e267e8bf",
   "metadata": {
    "ExecuteTime": {
     "end_time": "2024-02-29T03:14:10.812606Z",
     "start_time": "2024-02-29T03:14:10.805010Z"
    },
    "code_folding": []
   },
   "outputs": [],
   "source": [
    "# reset: remove report and clear dfs\n",
    "def _reset():\n",
    "    os.system(f'rm {_report_path}')\n",
    "    computation_energy_per_vm_df = pd.DataFrame(columns=['scenario','device', 'app', 'vm', 'energy'])\n",
    "    computation_energy_df = pd.DataFrame(columns=['scenario','device', 'energy'])\n",
    "    communication_energy_df = pd.DataFrame(columns=['scenario','device_id', 'device', 'tuple', 'energy'])\n",
    "    execution_time_df = pd.DataFrame(columns=['scenario','tuple', 'execution_time'])\n",
    "    simulation_time_df = pd.DataFrame(columns=['scenario', 'simulation_time'])\n",
    "    time.sleep(3)"
   ]
  },
  {
   "cell_type": "code",
   "execution_count": 5,
   "id": "b1a81e67",
   "metadata": {
    "ExecuteTime": {
     "end_time": "2024-02-29T03:14:10.832635Z",
     "start_time": "2024-02-29T03:14:10.813519Z"
    }
   },
   "outputs": [
    {
     "data": {
      "text/html": [
       "<div>\n",
       "<style scoped>\n",
       "    .dataframe tbody tr th:only-of-type {\n",
       "        vertical-align: middle;\n",
       "    }\n",
       "\n",
       "    .dataframe tbody tr th {\n",
       "        vertical-align: top;\n",
       "    }\n",
       "\n",
       "    .dataframe thead th {\n",
       "        text-align: right;\n",
       "    }\n",
       "</style>\n",
       "<table border=\"1\" class=\"dataframe\">\n",
       "  <thead>\n",
       "    <tr style=\"text-align: right;\">\n",
       "      <th></th>\n",
       "      <th>device</th>\n",
       "      <th>app</th>\n",
       "      <th>vm</th>\n",
       "      <th>energy</th>\n",
       "    </tr>\n",
       "  </thead>\n",
       "  <tbody>\n",
       "  </tbody>\n",
       "</table>\n",
       "</div>"
      ],
      "text/plain": [
       "Empty DataFrame\n",
       "Columns: [device, app, vm, energy]\n",
       "Index: []"
      ]
     },
     "execution_count": 5,
     "metadata": {},
     "output_type": "execute_result"
    }
   ],
   "source": [
    "computation_energy_per_vm_df"
   ]
  },
  {
   "cell_type": "code",
   "execution_count": 6,
   "id": "a44bbc42",
   "metadata": {
    "ExecuteTime": {
     "end_time": "2024-02-29T03:14:10.869352Z",
     "start_time": "2024-02-29T03:14:10.833936Z"
    },
    "code_folding": [
     0
    ]
   },
   "outputs": [],
   "source": [
    "# Parsing Functions\n",
    "# string map to map\n",
    "def parse_map_string(sample):\n",
    "    # Use regex to convert the string into a valid JSON format\n",
    "    formatted_sample = re.sub(r'(\\w+)=', r'\"\\1\":', sample)\n",
    "    formatted_sample = re.sub(r'(\\w+)(?==)', r'\"\\1\"', formatted_sample)\n",
    "\n",
    "    # Parse the formatted string into a dictionary\n",
    "    parsed_sample = ast.literal_eval(formatted_sample)\n",
    "\n",
    "    #print(parsed_sample)\n",
    "    return parsed_sample\n",
    "\n",
    "# For this format:\n",
    "def parse_vm_energy(l):\n",
    "    global computation_energy_per_vm_df\n",
    "    #l=\"cloud : Vms Energy Map of device : cloud {dcns_1={user_interface_1=12823.499999997002}, dcns_0={user_interface=13373.078571425585}}\"\n",
    "    pattern = r'^(.*?): Vms Energy Map of device : (.*?) ({.*?})$'  # Adjusted pattern\n",
    "    # Match the pattern with the line\n",
    "    match = re.match(pattern, l)\n",
    "    if match:\n",
    "        device=match.group(1)\n",
    "        m=match.group(3)\n",
    "        apps_vms_energy_map=parse_map_string(m)\n",
    "        for app in apps_vms_energy_map:\n",
    "            for vm in apps_vms_energy_map[app]:\n",
    "                data={'scenario':Scenario, 'device':device,'app':app,'vm':vm, 'energy':apps_vms_energy_map[app][vm]}\n",
    "                df=pd.DataFrame([data])\n",
    "                computation_energy_per_vm_df=pd.concat([computation_energy_per_vm_df,df], ignore_index=True)\n",
    "\n",
    "\n",
    "\n",
    "def parse_device_total_energy(l):\n",
    "    global computation_energy_df\n",
    "    #l=\"cloud : Energy Consumed = 2421940.93607143\"\n",
    "    pattern = r'^(.*?): Energy Consumed = (\\d+(\\.\\d+)?)$'\n",
    "    match = re.match(pattern, l)\n",
    "    if match:\n",
    "        device=match.group(1)\n",
    "        device_energy=match.group(2)\n",
    "        data={'scenario':Scenario, 'device':device, 'energy':device_energy}\n",
    "        df=pd.DataFrame([data])\n",
    "        computation_energy_df=pd.concat([computation_energy_df,df],ignore_index=True)\n",
    "\n",
    "        \n",
    "def parse_scenario(l):\n",
    "    global Scenario\n",
    "    #l=\"cloud : Energy Consumed = 2421940.93607143\"\n",
    "    pattern = r'^Scenario (.*?)$'\n",
    "    match = re.match(pattern, l)\n",
    "    if match:\n",
    "        Scenario=match.group(1)\n",
    "        print(f\"\\n\\n\\n*******************************************\\nScenario is {Scenario}\\n*******************************************\")\n",
    "\n",
    "\n",
    "\n",
    "def parse_tuple_networking_energy(l):\n",
    "    global communication_energy_df\n",
    "    #l=\"6 d-0 Networking Tuples energy Map {dcns_1={MOTION_VIDEO_STREAM_1=134177.01818170713, PTZ_PARAMS_1=3143.6363636335045}, dcns_0={PTZ_PARAMS=3143.636363633739, DETECTED_OBJECT=6943.299999994468}}\"\n",
    "    pattern = r'^(\\d+)\\s+(\\S+)\\s+Networking Tuples energy Map\\s+({.*})$'\n",
    "    match = re.match(pattern, l)\n",
    "    if match:\n",
    "        device_id=match.group(1)\n",
    "        device_name=match.group(2)\n",
    "        m=match.group(3)\n",
    "        apps_tuples_energy_map=parse_map_string(m)\n",
    "        for app in apps_tuples_energy_map:\n",
    "            for tuple_name in apps_tuples_energy_map[app]:\n",
    "                data={'scenario':Scenario, 'device_id':device_id,'device':device_name,'app':app,'tuple':tuple_name, 'energy':apps_tuples_energy_map[app][tuple_name]}\n",
    "                df=pd.DataFrame([data])\n",
    "                communication_energy_df=pd.concat([communication_energy_df,df], ignore_index=True)\n",
    "\n",
    "\n",
    "\n",
    "# For Tuple execution time\n",
    "def parse_tuple_execution_time(l):\n",
    "    global execution_time_df\n",
    "    #l=\"MOTION_VIDEO_STREAM --->= 2.9571428571427987\"\n",
    "    pattern = r'^(.*?)\\s+--->=\\s+(\\d+(\\.\\d+)?)$'\n",
    "    match = re.match(pattern, l)\n",
    "    if match:\n",
    "        tuple_name=match.group(1)\n",
    "        execution_time=match.group(2)\n",
    "        data={'scenario':Scenario, 'tuple':tuple_name,'execution_time':{execution_time}}\n",
    "        df=pd.DataFrame([data])\n",
    "        execution_time_df=pd.concat([execution_time_df,df],ignore_index=True)\n",
    "\n",
    "\n",
    "\n",
    "# For loop delay\n",
    "def parse_loops_delay(l):\n",
    "    #l=\"[motion_detector, object_detector, object_tracker] --->= 5.357142857142962\"\n",
    "    pattern = r'^(.*?)\\s+--->=\\s+(\\d+(\\.\\d+)?)$'\n",
    "    match = re.match(pattern, l)\n",
    "    if match:\n",
    "        loop_name=match.group(1)\n",
    "        loop_delay=match.group(2)\n",
    "\n",
    "\n",
    "\n",
    "\n",
    "# For total simulation time\n",
    "def parse_simulation_time(l):\n",
    "    #l=\"EXECUTION TIME = 370\"\n",
    "    pattern = r'^EXECUTION TIME = (\\d+(\\.\\d+)?)$'\n",
    "    global simulation_time_df\n",
    "    match = re.match(pattern, l)\n",
    "    if match:\n",
    "        exec_time=match.group(1)\n",
    "        data={'scenario':Scenario, 'simulation_time':exec_time}\n",
    "        df=pd.DataFrame([data])\n",
    "        simulation_time_df=pd.concat([simulation_time_df,df],ignore_index=True)"
   ]
  },
  {
   "cell_type": "code",
   "execution_count": 7,
   "id": "c7a33b17",
   "metadata": {
    "ExecuteTime": {
     "end_time": "2024-02-29T03:14:10.883169Z",
     "start_time": "2024-02-29T03:14:10.870305Z"
    },
    "code_folding": [
     0
    ]
   },
   "outputs": [],
   "source": [
    "# Parse\n",
    "def parse(report_path=_report_path):\n",
    "    with open(report_path, 'r') as file:\n",
    "        for l in file:\n",
    "            parse_scenario(l)\n",
    "            parse_vm_energy(l)\n",
    "            parse_device_total_energy(l)\n",
    "            parse_tuple_networking_energy(l)\n",
    "            parse_tuple_execution_time(l)\n",
    "            parse_loops_delay(l)\n",
    "            parse_simulation_time(l)\n",
    "        "
   ]
  },
  {
   "cell_type": "code",
   "execution_count": 8,
   "id": "edb3fda0",
   "metadata": {
    "ExecuteTime": {
     "end_time": "2024-02-29T03:14:10.892378Z",
     "start_time": "2024-02-29T03:14:10.884216Z"
    },
    "code_folding": [
     0
    ]
   },
   "outputs": [],
   "source": [
    "def save(save_path=_save_path):\n",
    "    # Combine all DataFrames\n",
    "    data_frames = {\n",
    "        'Computation Energy VMs': computation_energy_per_vm_df,\n",
    "        'Computation Energy Devices': computation_energy_df,\n",
    "        'Communication Energy': communication_energy_df,\n",
    "        'Execution Time': execution_time_df,\n",
    "        'Simulation Time': simulation_time_df\n",
    "    }\n",
    "    # Save each DataFrame to a separate CSV file\n",
    "    for name, df in data_frames.items():\n",
    "        df.to_csv(f\"{save_path}/{name}.csv\", index=False)"
   ]
  },
  {
   "cell_type": "code",
   "execution_count": 9,
   "id": "f587c835",
   "metadata": {
    "ExecuteTime": {
     "end_time": "2024-02-29T03:14:10.901772Z",
     "start_time": "2024-02-29T03:14:10.893589Z"
    },
    "code_folding": [
     0
    ]
   },
   "outputs": [],
   "source": [
    "def load(save_path=_save_path):\n",
    "    # Combine all DataFrames\n",
    "    data_frames = {\n",
    "        'Computation Energy VMs': computation_energy_per_vm_df,\n",
    "        'Computation Energy Devices': computation_energy_df,\n",
    "        'Communication Energy': communication_energy_df,\n",
    "        'Execution Time': execution_time_df,\n",
    "        'Simulation Time': simulation_time_df\n",
    "    }\n",
    "    # Save each DataFrame to a separate CSV file\n",
    "    for name, df in data_frames.items():\n",
    "        df.read_csv(f\"{save_path}/{name}.csv\", index=False)"
   ]
  },
  {
   "cell_type": "code",
   "execution_count": 10,
   "id": "96c82d6c",
   "metadata": {
    "ExecuteTime": {
     "end_time": "2024-02-29T03:14:11.415802Z",
     "start_time": "2024-02-29T03:14:10.904076Z"
    },
    "code_folding": [],
    "scrolled": true
   },
   "outputs": [
    {
     "name": "stdout",
     "output_type": "stream",
     "text": [
      "Starting TwoDCNSApps...\n",
      "Scenario Router_Proxy\n",
      "reversed_selectivity: 1.0\n",
      "reversed_selectivity: 1.0\n",
      "reversed_selectivity: 20.0\n",
      "reversed_selectivity: 1.0\n",
      "reversed_selectivity: 1.0\n",
      "reversed_selectivity: 20.0\n",
      "object_detector_1\n",
      "motion_detector_1\n",
      "object_tracker_1\n",
      "user_interface_1\n",
      "\n",
      "\n",
      "\n",
      "\n",
      "*****************************\n",
      "\n",
      "\n",
      "\n",
      "dcns_0 ''' module motion_detector can be created on device m-0-2\n",
      "Creating 0 instances of motion_detector on device m-0-2\n",
      "dcns_0 ''' module user_interface can be created on device cloud\n",
      "Creating 0 instances of user_interface on device cloud\n",
      "dcns_0 ''' module motion_detector can be created on device m-0-1\n",
      "Creating 0 instances of motion_detector on device m-0-1\n",
      "dcns_0 ''' module motion_detector can be created on device m-0-3\n",
      "Creating 0 instances of motion_detector on device m-0-3\n",
      "dcns_0 ''' module motion_detector can be created on device m-0-0\n",
      "Creating 0 instances of motion_detector on device m-0-0\n",
      "dcns_0 ''' module object_detector can be created on device d-0\n",
      "Creating 0 instances of object_detector on device d-0\n",
      "dcns_0 ''' module object_tracker can be created on device d-0\n",
      "Creating 0 instances of object_tracker on device d-0\n",
      "dcns_1 ''' module motion_detector_1 can be created on device m-0-2\n",
      "Creating 0 instances of motion_detector_1 on device m-0-2\n",
      "dcns_1 ''' module user_interface_1 can be created on device cloud\n",
      "Creating 0 instances of user_interface_1 on device cloud\n",
      "dcns_1 ''' module motion_detector_1 can be created on device m-0-1\n",
      "Creating 0 instances of motion_detector_1 on device m-0-1\n",
      "dcns_1 ''' module motion_detector_1 can be created on device m-0-3\n",
      "Creating 0 instances of motion_detector_1 on device m-0-3\n",
      "dcns_1 ''' module motion_detector_1 can be created on device m-0-0\n",
      "Creating 0 instances of motion_detector_1 on device m-0-0\n",
      "dcns_1 ''' module object_detector_1 can be created on device proxy-server\n",
      "Creating 0 instances of object_detector_1 on device proxy-server\n",
      "dcns_1 ''' module object_tracker_1 can be created on device proxy-server\n",
      "Creating 0 instances of object_tracker_1 on device proxy-server\n",
      "HHHHHHHHHHHHHHHHHHHHHHHHHHHHHHHHHHHHHHHHHEEEEEEEEEEEEEEEEEEEEEEEEEEEELLLLLLLLLLLLLLLLLLLLLLLLLLLLLLLLOOOOOOOOOOOOOOOOOOO\n",
      "HHHHHHHHHHHHHHHHHHHHHHHHHHHHHHHHHHHHHHHHHEEEEEEEEEEEEEEEEEEEEEEEEEEEELLLLLLLLLLLLLLLLLLLLLLLLLLLLLLLLOOOOOOOOOOOOOOOOOOO\n",
      "# SENSOR # gatewayDeviceId is : 7 MinTimeBetweenEvents is: 0.1\n",
      "# SENSOR #  Id is : 11 TransmitDistribution.getNextValue + transmissionStartDelay is= 5.0 + 50\n",
      "# ACTUATOR # gatewayDeviceId is : 7 Latency is: 1.0\n",
      "# SENSOR # gatewayDeviceId is : 8 MinTimeBetweenEvents is: 0.1\n",
      "# SENSOR #  Id is : 13 TransmitDistribution.getNextValue + transmissionStartDelay is= 5.0 + 50\n",
      "# ACTUATOR # gatewayDeviceId is : 8 Latency is: 1.0\n",
      "# SENSOR # gatewayDeviceId is : 9 MinTimeBetweenEvents is: 0.1\n",
      "# SENSOR #  Id is : 15 TransmitDistribution.getNextValue + transmissionStartDelay is= 5.0 + 50\n",
      "# ACTUATOR # gatewayDeviceId is : 9 Latency is: 1.0\n",
      "# SENSOR # gatewayDeviceId is : 10 MinTimeBetweenEvents is: 0.1\n",
      "# SENSOR #  Id is : 17 TransmitDistribution.getNextValue + transmissionStartDelay is= 5.0 + 50\n",
      "# ACTUATOR # gatewayDeviceId is : 10 Latency is: 1.0\n",
      "# SENSOR # gatewayDeviceId is : 7 MinTimeBetweenEvents is: 0.1\n",
      "# SENSOR #  Id is : 19 TransmitDistribution.getNextValue + transmissionStartDelay is= 5.0 + 50\n",
      "# ACTUATOR # gatewayDeviceId is : 7 Latency is: 1.0\n",
      "# SENSOR # gatewayDeviceId is : 8 MinTimeBetweenEvents is: 0.1\n",
      "# SENSOR #  Id is : 21 TransmitDistribution.getNextValue + transmissionStartDelay is= 5.0 + 50\n",
      "# ACTUATOR # gatewayDeviceId is : 8 Latency is: 1.0\n",
      "# SENSOR # gatewayDeviceId is : 9 MinTimeBetweenEvents is: 0.1\n",
      "# SENSOR #  Id is : 23 TransmitDistribution.getNextValue + transmissionStartDelay is= 5.0 + 50\n",
      "# ACTUATOR # gatewayDeviceId is : 9 Latency is: 1.0\n",
      "# SENSOR # gatewayDeviceId is : 10 MinTimeBetweenEvents is: 0.1\n",
      "# SENSOR #  Id is : 25 TransmitDistribution.getNextValue + transmissionStartDelay is= 5.0 + 50\n",
      "# ACTUATOR # gatewayDeviceId is : 10 Latency is: 1.0\n",
      "0.0 Submitted application dcns_0\n",
      "^^^^^^^^^^^^^^^DeviceId : 4\n",
      "^^^^^^^^^^^^^^^ module : user_interface\n",
      "^^^^^^^^^^^^^^^DeviceId : 6\n",
      "^^^^^^^^^^^^^^^ module : object_detector\n",
      "^^^^^^^^^^^^^^^ module : object_tracker\n",
      "^^^^^^^^^^^^^^^DeviceId : 7\n",
      "^^^^^^^^^^^^^^^ module : motion_detector\n",
      "^^^^^^^^^^^^^^^DeviceId : 8\n",
      "^^^^^^^^^^^^^^^ module : motion_detector\n",
      "^^^^^^^^^^^^^^^DeviceId : 9\n",
      "^^^^^^^^^^^^^^^ module : motion_detector\n",
      "^^^^^^^^^^^^^^^DeviceId : 10\n",
      "^^^^^^^^^^^^^^^ module : motion_detector\n",
      " IT IS VM Id :4 this data carried by this event ev= 52 for this destination : 4\n",
      " Vm list after creation : [org.fog.application.AppModule@46f7f36a]\n",
      " IT IS VM Id :1 this data carried by this event ev= 52 for this destination : 6\n",
      " Vm list after creation : [org.fog.application.AppModule@421faab1]\n",
      " IT IS VM Id :3 this data carried by this event ev= 52 for this destination : 6\n",
      " Vm list after creation : [org.fog.application.AppModule@421faab1, org.fog.application.AppModule@2b71fc7e]\n",
      "periodic edge source (from initialize periodic tuple): object_tracker\n",
      " IT IS VM Id :18 this data carried by this event ev= 52 for this destination : 7\n",
      " Vm list after creation : [org.fog.application.AppModule@5ce65a89]\n",
      " IT IS VM Id :16 this data carried by this event ev= 52 for this destination : 8\n",
      " Vm list after creation : [org.fog.application.AppModule@25f38edc]\n",
      " IT IS VM Id :2 this data carried by this event ev= 52 for this destination : 9\n",
      " Vm list after creation : [org.fog.application.AppModule@1a86f2f1]\n",
      " IT IS VM Id :17 this data carried by this event ev= 52 for this destination : 10\n",
      " Vm list after creation : [org.fog.application.AppModule@3eb07fd3]\n",
      "80.0 Submitted application dcns_1\n",
      "^^^^^^^^^^^^^^^DeviceId : 4\n",
      "^^^^^^^^^^^^^^^ module : user_interface_1\n",
      "^^^^^^^^^^^^^^^DeviceId : 5\n",
      "^^^^^^^^^^^^^^^ module : object_detector_1\n",
      "^^^^^^^^^^^^^^^ module : object_tracker_1\n",
      "^^^^^^^^^^^^^^^DeviceId : 7\n",
      "^^^^^^^^^^^^^^^ module : motion_detector_1\n",
      "^^^^^^^^^^^^^^^DeviceId : 8\n",
      "^^^^^^^^^^^^^^^ module : motion_detector_1\n",
      "^^^^^^^^^^^^^^^DeviceId : 9\n",
      "^^^^^^^^^^^^^^^ module : motion_detector_1\n",
      "^^^^^^^^^^^^^^^DeviceId : 10\n",
      "^^^^^^^^^^^^^^^ module : motion_detector_1\n",
      " IT IS VM Id :8 this data carried by this event ev= 52 for this destination : 4\n",
      " Vm list after creation : [org.fog.application.AppModule@46f7f36a, org.fog.application.AppModule@77a567e1]\n",
      " IT IS VM Id :5 this data carried by this event ev= 52 for this destination : 5\n",
      " Vm list after creation : [org.fog.application.AppModule@736e9adb]\n",
      " IT IS VM Id :7 this data carried by this event ev= 52 for this destination : 5\n",
      " Vm list after creation : [org.fog.application.AppModule@736e9adb, org.fog.application.AppModule@6d21714c]\n",
      "periodic edge source (from initialize periodic tuple): object_tracker_1\n",
      " IT IS VM Id :21 this data carried by this event ev= 52 for this destination : 7\n",
      " Vm list after creation : [org.fog.application.AppModule@5ce65a89, org.fog.application.AppModule@108c4c35]\n",
      " IT IS VM Id :19 this data carried by this event ev= 52 for this destination : 8\n",
      " Vm list after creation : [org.fog.application.AppModule@25f38edc, org.fog.application.AppModule@4ccabbaa]\n",
      " IT IS VM Id :6 this data carried by this event ev= 52 for this destination : 9\n",
      " Vm list after creation : [org.fog.application.AppModule@1a86f2f1, org.fog.application.AppModule@4bf558aa]\n",
      " IT IS VM Id :20 this data carried by this event ev= 52 for this destination : 10\n",
      " Vm list after creation : [org.fog.application.AppModule@3eb07fd3, org.fog.application.AppModule@2d38eb89]\n"
     ]
    },
    {
     "name": "stderr",
     "output_type": "stream",
     "text": [
      "clock is 0.0\n",
      "clock is 0.0\n",
      "clock is 100.0\n",
      "clock is 200.0\n",
      "clock is 300.0\n",
      "clock is 400.0\n",
      "clock is 500.0\n",
      "clock is 600.0\n"
     ]
    },
    {
     "name": "stdout",
     "output_type": "stream",
     "text": [
      "\n",
      "\n",
      "***************************************************\n",
      "\n",
      "cloud Total Idle Networking Energy with Flow-base model = 0.0\n",
      "cloud Total Active Networking Energy with Flow-base model = 0.0\n",
      "cloud Total Device Networking Energy with Flow-base model = 0.0\n",
      "\n",
      "\n",
      "***************************************************\n",
      "\n",
      "proxy-server Total Idle Networking Energy with Flow-base model = 12444.704999988193\n",
      "proxy-server Total Active Networking Energy with Flow-base model = 691.3724999993441\n",
      "proxy-server Total Device Networking Energy with Flow-base model = 13136.077499987538\n",
      "\n",
      "\n",
      "***************************************************\n",
      "\n",
      "d-0 Total Idle Networking Energy with Flow-base model = 134397.8999998894\n",
      "d-0 Total Active Networking Energy with Flow-base model = 13009.690909080231\n",
      "d-0 Total Device Networking Energy with Flow-base model = 147407.59090896964\n",
      "\n",
      "\n",
      "***************************************************\n",
      "\n",
      "m-0-0 Total Idle Networking Energy with Flow-base model = 5600.0\n",
      "m-0-0 Total Active Networking Energy with Flow-base model = 273.60000000004555\n",
      "m-0-0 Total Device Networking Energy with Flow-base model = 5873.600000000046\n",
      "\n",
      "\n",
      "***************************************************\n",
      "\n",
      "m-0-1 Total Idle Networking Energy with Flow-base model = 5600.0\n",
      "m-0-1 Total Active Networking Energy with Flow-base model = 273.60000000004555\n",
      "m-0-1 Total Device Networking Energy with Flow-base model = 5873.600000000046\n",
      "\n",
      "\n",
      "***************************************************\n",
      "\n",
      "m-0-2 Total Idle Networking Energy with Flow-base model = 5600.0\n",
      "m-0-2 Total Active Networking Energy with Flow-base model = 273.60000000004555\n",
      "m-0-2 Total Device Networking Energy with Flow-base model = 5873.600000000046\n",
      "\n",
      "\n",
      "***************************************************\n",
      "\n",
      "m-0-3 Total Idle Networking Energy with Flow-base model = 5600.0\n",
      "m-0-3 Total Active Networking Energy with Flow-base model = 273.60000000004555\n",
      "m-0-3 Total Device Networking Energy with Flow-base model = 5873.600000000046\n",
      "=========================================\n",
      "============== RESULTS ==================\n",
      "=========================================\n",
      "EXECUTION TIME = 365\n",
      "=========================================\n",
      "APPLICATION LOOP DELAYS\n",
      "=========================================\n",
      "[motion_detector, object_detector, object_tracker] --->= 5.357142857142962\n",
      "[object_tracker, PTZ_CONTROL] --->= 3.1099999999999577\n",
      "[motion_detector_1, object_detector_1, object_tracker_1] --->= 7.63714285714261\n",
      "[object_tracker_1, PTZ_CONTROL_1] --->= 5.1109999999999305\n",
      "=========================================\n",
      "TUPLE CPU EXECUTION DELAY\n",
      "=========================================\n",
      "MOTION_VIDEO_STREAM --->= 2.9571428571427987\n",
      "DETECTED_OBJECT --->= 0.1111607142856883\n",
      "OBJECT_LOCATION --->= 1.5285714285714675\n",
      "CAMERA --->= 4.099999999999909\n",
      "OBJECT_LOCATION_1 --->= 1.5285714285714675\n",
      "MOTION_VIDEO_STREAM_1 --->= 2.971809523809452\n",
      "CAMERA_1 --->= 4.099999999999909\n",
      "DETECTED_OBJECT_1 --->= 0.1111607142856883\n",
      "=========================================\n",
      "cloud : Energy Consumed = 2421940.93607143\n",
      "cloud : Application Energy Consumed = 26196.578571422586\n",
      "cloud : Vms Energy Map of device : cloud {dcns_1={user_interface_1=12823.499999997002}, dcns_0={user_interface=13373.078571425585}}\n",
      "cloud : Application dcns_1 total Energy = 12823.499999997002\n",
      "cloud : Application dcns_0 total Energy = 13373.078571425585\n",
      "cloud : North Link Busy Time = 0.0\n",
      "cloud : North Link Idle Time = 0.0\n",
      "cloud : South Link Busy Time = 0.0\n",
      "cloud : South Link Idle Time = 0.0\n",
      "proxy-server : Energy Consumed = 195125.56714200202\n",
      "proxy-server : Application Energy Consumed = 181063.71875999979\n",
      "proxy-server : Vms Energy Map of device : proxy-server {dcns_1={object_tracker_1=60871.94690000103, object_detector_1=120191.771859996}}\n",
      "proxy-server : Application dcns_1 total Energy = 181063.71875999705\n",
      "proxy-server : North Link Busy Time = 3.0199999999975375\n",
      "proxy-server : North Link Idle Time = 1989.7371428571448\n",
      "proxy-server : South Link Busy Time = 0.01899999999957913\n",
      "proxy-server : South Link Idle Time = 1980.0820000000003\n",
      "d-0 : Energy Consumed = 203388.99568000098\n",
      "d-0 : Application Energy Consumed = 186616.51857142802\n",
      "d-0 : Vms Energy Map of device : d-0 {dcns_0={object_tracker=63497.15215714387, object_detector=123119.36641428557}}\n",
      "d-0 : Application dcns_0 total Energy = 186616.51857142945\n",
      "d-0 : North Link Busy Time = 31.299999999974318\n",
      "d-0 : North Link Idle Time = 1966.3800000000256\n",
      "d-0 : South Link Busy Time = 1.5199999999986744\n",
      "d-0 : South Link Idle Time = 1980.621000000001\n",
      "m-0-0 : Energy Consumed = 168223.1019999993\n",
      "m-0-0 : Application Energy Consumed = 136879.41399999865\n",
      "m-0-0 : Vms Energy Map of device : m-0-0 {dcns_1={motion_detector_1=66925.43799999933}, dcns_0={motion_detector=69953.97599999934}}\n",
      "m-0-0 : Application dcns_1 total Energy = 66925.43799999933\n",
      "m-0-0 : Application dcns_0 total Energy = 69953.97599999934\n",
      "m-0-0 : North Link Busy Time = 152.00000000002532\n",
      "m-0-0 : North Link Idle Time = 1843.5999999999744\n",
      "m-0-0 : South Link Busy Time = 0.0\n",
      "m-0-0 : South Link Idle Time = 0.0\n",
      "m-0-1 : Energy Consumed = 168223.1019999993\n",
      "m-0-1 : Application Energy Consumed = 136879.41399999865\n",
      "m-0-1 : Vms Energy Map of device : m-0-1 {dcns_1={motion_detector_1=66925.43799999933}, dcns_0={motion_detector=69953.97599999934}}\n",
      "m-0-1 : Application dcns_1 total Energy = 66925.43799999933\n",
      "m-0-1 : Application dcns_0 total Energy = 69953.97599999934\n",
      "m-0-1 : North Link Busy Time = 152.00000000002532\n",
      "m-0-1 : North Link Idle Time = 1843.5999999999744\n",
      "m-0-1 : South Link Busy Time = 0.0\n",
      "m-0-1 : South Link Idle Time = 0.0\n",
      "m-0-2 : Energy Consumed = 168223.1019999993\n",
      "m-0-2 : Application Energy Consumed = 136879.41399999865\n",
      "m-0-2 : Vms Energy Map of device : m-0-2 {dcns_1={motion_detector_1=66925.43799999933}, dcns_0={motion_detector=69953.97599999934}}\n",
      "m-0-2 : Application dcns_1 total Energy = 66925.43799999933\n",
      "m-0-2 : Application dcns_0 total Energy = 69953.97599999934\n",
      "m-0-2 : North Link Busy Time = 152.00000000002532\n",
      "m-0-2 : North Link Idle Time = 1843.5999999999744\n",
      "m-0-2 : South Link Busy Time = 0.0\n",
      "m-0-2 : South Link Idle Time = 0.0\n",
      "m-0-3 : Energy Consumed = 168223.1019999993\n",
      "m-0-3 : Application Energy Consumed = 136879.41399999865\n",
      "m-0-3 : Vms Energy Map of device : m-0-3 {dcns_1={motion_detector_1=66925.43799999933}, dcns_0={motion_detector=69953.97599999934}}\n",
      "m-0-3 : Application dcns_1 total Energy = 66925.43799999933\n",
      "m-0-3 : Application dcns_0 total Energy = 69953.97599999934\n",
      "m-0-3 : North Link Busy Time = 152.00000000002532\n",
      "m-0-3 : North Link Idle Time = 1843.5999999999744\n",
      "m-0-3 : South Link Busy Time = 0.0\n",
      "m-0-3 : South Link Idle Time = 0.0\n",
      "Cost of execution in cloud = 13541.285714284086\n",
      "Total network usage = 24327.1\n",
      "Total network Energy = 92822.630399996\n",
      "Total networking Time = 642.3199999999925\n",
      "\n",
      "=========================================\n",
      "============== TIME & ENERGY MAP RESULTS ==================\n",
      "4 cloud Networking Tuples energy Map {}\n",
      "5 proxy-server Networking Tuples energy Map {dcns_1={PTZ_PARAMS_1=82.1274999981808, DETECTED_OBJECT_1=6397.2999999946605}, dcns_0={DETECTED_OBJECT=6656.649999994668}}\n",
      "6 d-0 Networking Tuples energy Map {dcns_1={MOTION_VIDEO_STREAM_1=134177.01818170713, PTZ_PARAMS_1=3143.6363636335045}, dcns_0={PTZ_PARAMS=3143.636363633739, DETECTED_OBJECT=6943.299999994468}}\n",
      "7 m-0-0 Networking Tuples energy Map {dcns_1={MOTION_VIDEO_STREAM_1=2873.6466909849205}, dcns_0={MOTION_VIDEO_STREAM=2997.2443981240363}}\n",
      "8 m-0-1 Networking Tuples energy Map {dcns_1={MOTION_VIDEO_STREAM_1=2873.6466909849205}, dcns_0={MOTION_VIDEO_STREAM=2997.2443981240363}}\n",
      "9 m-0-2 Networking Tuples energy Map {dcns_1={MOTION_VIDEO_STREAM_1=2873.6466909849205}, dcns_0={MOTION_VIDEO_STREAM=2997.2443981240363}}\n",
      "10 m-0-3 Networking Tuples energy Map {dcns_1={MOTION_VIDEO_STREAM_1=2873.6466909849205}, dcns_0={MOTION_VIDEO_STREAM=2997.2443981240363}}\n"
     ]
    },
    {
     "name": "stderr",
     "output_type": "stream",
     "text": [
      "clock is 700.0\n",
      "clock is 800.0\n",
      "clock is 900.0\n",
      "clock is 1000.0\n",
      "clock is 1100.0\n",
      "clock is 1200.0\n",
      "clock is 1300.0\n",
      "clock is 1400.0\n",
      "clock is 1500.0\n",
      "clock is 1600.0\n",
      "clock is 1700.0\n",
      "clock is 1800.0\n",
      "clock is 1900.0\n",
      "clock is 2000.0\n"
     ]
    }
   ],
   "source": [
    "# Run the simulation\n",
    "_scns=[\"\",\"\"]\n",
    "run(app_name=\"TwoDCNSApps\", scenario=\"Router_Proxy\")"
   ]
  },
  {
   "cell_type": "code",
   "execution_count": 11,
   "id": "38ae2fba",
   "metadata": {
    "ExecuteTime": {
     "end_time": "2024-02-29T03:14:11.457527Z",
     "start_time": "2024-02-29T03:14:11.417145Z"
    }
   },
   "outputs": [
    {
     "name": "stdout",
     "output_type": "stream",
     "text": [
      "\n",
      "\n",
      "\n",
      "*******************************************\n",
      "Scenario is Router_Proxy\n",
      "*******************************************\n"
     ]
    }
   ],
   "source": [
    "# Parse the results\n",
    "parse()\n",
    "save()"
   ]
  },
  {
   "cell_type": "code",
   "execution_count": 12,
   "id": "13458033",
   "metadata": {
    "ExecuteTime": {
     "end_time": "2024-02-29T03:14:11.471103Z",
     "start_time": "2024-02-29T03:14:11.458735Z"
    }
   },
   "outputs": [
    {
     "data": {
      "text/html": [
       "<div>\n",
       "<style scoped>\n",
       "    .dataframe tbody tr th:only-of-type {\n",
       "        vertical-align: middle;\n",
       "    }\n",
       "\n",
       "    .dataframe tbody tr th {\n",
       "        vertical-align: top;\n",
       "    }\n",
       "\n",
       "    .dataframe thead th {\n",
       "        text-align: right;\n",
       "    }\n",
       "</style>\n",
       "<table border=\"1\" class=\"dataframe\">\n",
       "  <thead>\n",
       "    <tr style=\"text-align: right;\">\n",
       "      <th></th>\n",
       "      <th></th>\n",
       "      <th>scenario</th>\n",
       "      <th>Router_Proxy</th>\n",
       "    </tr>\n",
       "    <tr>\n",
       "      <th>app</th>\n",
       "      <th>device</th>\n",
       "      <th>vm</th>\n",
       "      <th></th>\n",
       "    </tr>\n",
       "  </thead>\n",
       "  <tbody>\n",
       "    <tr>\n",
       "      <th rowspan=\"7\" valign=\"top\">dcns_0</th>\n",
       "      <th>cloud</th>\n",
       "      <th>user_interface</th>\n",
       "      <td>13373.078571</td>\n",
       "    </tr>\n",
       "    <tr>\n",
       "      <th rowspan=\"2\" valign=\"top\">d-0</th>\n",
       "      <th>object_detector</th>\n",
       "      <td>123119.366414</td>\n",
       "    </tr>\n",
       "    <tr>\n",
       "      <th>object_tracker</th>\n",
       "      <td>63497.152157</td>\n",
       "    </tr>\n",
       "    <tr>\n",
       "      <th>m-0-0</th>\n",
       "      <th>motion_detector</th>\n",
       "      <td>69953.976000</td>\n",
       "    </tr>\n",
       "    <tr>\n",
       "      <th>m-0-1</th>\n",
       "      <th>motion_detector</th>\n",
       "      <td>69953.976000</td>\n",
       "    </tr>\n",
       "    <tr>\n",
       "      <th>m-0-2</th>\n",
       "      <th>motion_detector</th>\n",
       "      <td>69953.976000</td>\n",
       "    </tr>\n",
       "    <tr>\n",
       "      <th>m-0-3</th>\n",
       "      <th>motion_detector</th>\n",
       "      <td>69953.976000</td>\n",
       "    </tr>\n",
       "    <tr>\n",
       "      <th rowspan=\"7\" valign=\"top\">dcns_1</th>\n",
       "      <th>cloud</th>\n",
       "      <th>user_interface_1</th>\n",
       "      <td>12823.500000</td>\n",
       "    </tr>\n",
       "    <tr>\n",
       "      <th>m-0-0</th>\n",
       "      <th>motion_detector_1</th>\n",
       "      <td>66925.438000</td>\n",
       "    </tr>\n",
       "    <tr>\n",
       "      <th>m-0-1</th>\n",
       "      <th>motion_detector_1</th>\n",
       "      <td>66925.438000</td>\n",
       "    </tr>\n",
       "    <tr>\n",
       "      <th>m-0-2</th>\n",
       "      <th>motion_detector_1</th>\n",
       "      <td>66925.438000</td>\n",
       "    </tr>\n",
       "    <tr>\n",
       "      <th>m-0-3</th>\n",
       "      <th>motion_detector_1</th>\n",
       "      <td>66925.438000</td>\n",
       "    </tr>\n",
       "    <tr>\n",
       "      <th rowspan=\"2\" valign=\"top\">proxy-server</th>\n",
       "      <th>object_detector_1</th>\n",
       "      <td>120191.771860</td>\n",
       "    </tr>\n",
       "    <tr>\n",
       "      <th>object_tracker_1</th>\n",
       "      <td>60871.946900</td>\n",
       "    </tr>\n",
       "  </tbody>\n",
       "</table>\n",
       "</div>"
      ],
      "text/plain": [
       "scenario                                 Router_Proxy\n",
       "app    device        vm                              \n",
       "dcns_0 cloud         user_interface      13373.078571\n",
       "       d-0           object_detector    123119.366414\n",
       "                     object_tracker      63497.152157\n",
       "       m-0-0         motion_detector     69953.976000\n",
       "       m-0-1         motion_detector     69953.976000\n",
       "       m-0-2         motion_detector     69953.976000\n",
       "       m-0-3         motion_detector     69953.976000\n",
       "dcns_1 cloud         user_interface_1    12823.500000\n",
       "       m-0-0         motion_detector_1   66925.438000\n",
       "       m-0-1         motion_detector_1   66925.438000\n",
       "       m-0-2         motion_detector_1   66925.438000\n",
       "       m-0-3         motion_detector_1   66925.438000\n",
       "       proxy-server  object_detector_1  120191.771860\n",
       "                     object_tracker_1    60871.946900"
      ]
     },
     "metadata": {},
     "output_type": "display_data"
    }
   ],
   "source": [
    "# rearange \n",
    "t=computation_energy_per_vm_df.pivot_table(index='scenario',columns=['app','device','vm'],values='energy')\n",
    "#t.reset_index(inplace=True)\n",
    "t=t.transpose()\n",
    "display(t)\n",
    "t.to_csv(\"jj.csv\")"
   ]
  },
  {
   "cell_type": "code",
   "execution_count": 13,
   "id": "962316bd",
   "metadata": {
    "ExecuteTime": {
     "end_time": "2024-02-29T03:14:11.666134Z",
     "start_time": "2024-02-29T03:14:11.472200Z"
    }
   },
   "outputs": [
    {
     "data": {
      "text/plain": [
       "<Axes: title={'center': 'My DataFrame Plot'}, xlabel='X Axis Label', ylabel='Y Axis Label'>"
      ]
     },
     "execution_count": 13,
     "metadata": {},
     "output_type": "execute_result"
    },
    {
     "data": {
      "image/png": "[encoded data removed]",
      "text/plain": [
       "<Figure size 432x288 with 1 Axes>"
      ]
     },
     "metadata": {
      "needs_background": "light"
     },
     "output_type": "display_data"
    }
   ],
   "source": [
    "# Customize plot with additional parameters (e.g., title, xlabel, ylabel)\n",
    "t.plot(kind='bar',title='My DataFrame Plot', xlabel='X Axis Label', ylabel='Y Axis Label')\n"
   ]
  },
  {
   "cell_type": "code",
   "execution_count": null,
   "id": "ff2f5022",
   "metadata": {
    "ExecuteTime": {
     "start_time": "2024-02-29T03:14:10.467Z"
    }
   },
   "outputs": [],
   "source": [
    "# display and plot\n",
    "# Pivot the DataFrame to have VMs as columns\n",
    "pivot_df = computation_energy_per_vm_df.pivot_table(index=['scenario','app'], columns=['vm'], values='energy').reset_index()\n",
    "display(pivot_df)\n",
    "# Plotting\n",
    "pivot_df.plot(kind='bar', stacked=True, figsize=(10, 6))\n"
   ]
  },
  {
   "cell_type": "code",
   "execution_count": 16,
   "id": "76d1f0fe",
   "metadata": {
    "ExecuteTime": {
     "end_time": "2024-02-29T10:30:31.258824Z",
     "start_time": "2024-02-29T10:30:22.869566Z"
    }
   },
   "outputs": [
    {
     "name": "stdout",
     "output_type": "stream",
     "text": [
      "Once deleted, variables cannot be recovered. Proceed (y/[n])? y\n",
      "Don't know how to reset  (), please run `%reset?` for details\n"
     ]
    }
   ],
   "source": [
    "_reset()"
   ]
  },
  {
   "cell_type": "code",
   "execution_count": null,
   "id": "8ba8f9e4",
   "metadata": {},
   "outputs": [],
   "source": []
  }
 ],
 "metadata": {
  "kernelspec": {
   "display_name": "Python 3 (ipykernel)",
   "language": "python",
   "name": "python3"
  },
  "language_info": {
   "codemirror_mode": {
    "name": "ipython",
    "version": 3
   },
   "file_extension": ".py",
   "mimetype": "text/x-python",
   "name": "python",
   "nbconvert_exporter": "python",
   "pygments_lexer": "ipython3",
   "version": "3.10.12"
  }
 },
 "nbformat": 4,
 "nbformat_minor": 5
}
